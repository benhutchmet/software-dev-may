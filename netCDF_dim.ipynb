{
 "cells": [
  {
   "cell_type": "code",
   "execution_count": 1,
   "metadata": {},
   "outputs": [],
   "source": [
    "# import the relevant libraries\n",
    "import numpy as np\n",
    "import pandas as pd\n",
    "import matplotlib.pyplot as plt\n",
    "import xarray as xr\n",
    "import cartopy.crs as ccrs\n",
    "import netCDF4 as nc"
   ]
  },
  {
   "cell_type": "code",
   "execution_count": 2,
   "metadata": {},
   "outputs": [],
   "source": [
    "# define the file path\n",
    "file_path = \"/workspaces/software-dev-may/data/20100601120000-ESACCI-L4_GHRSST-SSTdepth-OSTIA-GLOB_LT-v02.0-fv01.0.nc\"\n",
    "\n",
    "# write a function which opens the files using xarray\n",
    "def open_file(file_path):\n",
    "    \"\"\"This function opens the file using xarray\n",
    "    \n",
    "    Parameters\n",
    "    file_path: str\n",
    "    \n",
    "    Returns\n",
    "    ds: xarray.Dataset\n",
    "    \"\"\"\n",
    "    # open the file using xarray\n",
    "    # divide into chunks to reduce memory usage\n",
    "    ds = xr.open_dataset(file_path, chunks={'time': 1})\n",
    "    return ds\n",
    "\n",
    "# write a function which opens the file using netCDF4\n",
    "def open_file_nc(file_path):\n",
    "    \"\"\"This function opens the file using netCDF4\n",
    "    \n",
    "    Parameters\n",
    "    file_path: str\n",
    "    \n",
    "    Returns\n",
    "    ds: netCDF4.Dataset\n",
    "    \"\"\"\n",
    "    # open the file using netCDF4\n",
    "    ds = nc.Dataset(file_path)\n",
    "    return ds"
   ]
  },
  {
   "cell_type": "code",
   "execution_count": null,
   "metadata": {},
   "outputs": [],
   "source": [
    "# write a function which opens the file using either xarray or netCDF4\n",
    "def open_file_xr_nc(file_path, lib='xarray'):\n",
    "    \"\"\"This function opens the file using either xarray or netCDF4\n",
    "    \n",
    "    Parameters\n",
    "    file_path: str\n",
    "    lib: str, default='xarray'\n",
    "    \n",
    "    Returns\n",
    "    ds: xarray.Dataset or netCDF4.Dataset\n",
    "    \"\"\"\n",
    "    # open the file using xarray\n",
    "    if lib == 'xarray':\n",
    "        ds = xr.open_dataset(file_path, chunks={'time': 1})\n",
    "    # open the file using netCDF4\n",
    "    elif lib == 'netCDF4':\n",
    "        ds = nc.Dataset(file_path)\n",
    "    return ds"
   ]
  },
  {
   "cell_type": "code",
   "execution_count": 5,
   "metadata": {},
   "outputs": [],
   "source": [
    "# explore the information in the dataset\n",
    "# define a function which pipes the output of ds.info() to a text file\n",
    "def ds_info(ds):\n",
    "    \"\"\"This function pipes the output of ds.info() to a text file\n",
    "    \n",
    "    Parameters\n",
    "    ds: xarray.Dataset\n",
    "    \n",
    "    Returns\n",
    "    None\n",
    "    \"\"\"\n",
    "    # pipe the variable information to a text file\n",
    "    with open('ds_info.txt', 'w') as f:\n",
    "        ds.info(buf=f)\n",
    "    return None\n"
   ]
  },
  {
   "cell_type": "code",
   "execution_count": 6,
   "metadata": {},
   "outputs": [],
   "source": [
    "# define a function which pipes the output of NetCDF4.Dataset.info to a text file\n",
    "def ds_info_nc(ds):\n",
    "    \"\"\"This function pipes the output of NetCDF4.Dataset.info to a text file\n",
    "    \n",
    "    Parameters\n",
    "    ds: netCDF4.Dataset\n",
    "    \n",
    "    Returns\n",
    "    None\n",
    "    \"\"\"\n",
    "    # pipe the output of NetCDF4.Dataset.info to a text file\n",
    "    with open('ds_info_nc.txt', 'w') as f:\n",
    "        print(ds, file=f)\n",
    "    return None"
   ]
  },
  {
   "cell_type": "code",
   "execution_count": 7,
   "metadata": {},
   "outputs": [],
   "source": [
    "# run the functions\n",
    "ds = open_file(file_path)\n",
    "ds_info(ds)"
   ]
  },
  {
   "cell_type": "code",
   "execution_count": 8,
   "metadata": {},
   "outputs": [],
   "source": [
    "# run the NetCDF4 function\n",
    "ds_nc = open_file_nc(file_path)\n",
    "ds_info_nc(ds_nc)"
   ]
  }
 ],
 "metadata": {
  "kernelspec": {
   "display_name": "base",
   "language": "python",
   "name": "python3"
  },
  "language_info": {
   "codemirror_mode": {
    "name": "ipython",
    "version": 3
   },
   "file_extension": ".py",
   "mimetype": "text/x-python",
   "name": "python",
   "nbconvert_exporter": "python",
   "pygments_lexer": "ipython3",
   "version": "3.10.4"
  },
  "orig_nbformat": 4
 },
 "nbformat": 4,
 "nbformat_minor": 2
}
